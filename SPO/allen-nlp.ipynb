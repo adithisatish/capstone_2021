{
 "metadata": {
  "language_info": {
   "codemirror_mode": {
    "name": "ipython",
    "version": 3
   },
   "file_extension": ".py",
   "mimetype": "text/x-python",
   "name": "python",
   "nbconvert_exporter": "python",
   "pygments_lexer": "ipython3",
   "version": "3.7.6"
  },
  "orig_nbformat": 2,
  "kernelspec": {
   "name": "python376jvsc74a57bd0a0d4e06333e6cb61b4bbbc9d8fc792d4f6006fe6306b4a2b7b8e18ab0a2621e6",
   "display_name": "Python 3.7.6 64-bit ('base': conda)"
  }
 },
 "nbformat": 4,
 "nbformat_minor": 2,
 "cells": [
  {
   "cell_type": "code",
   "execution_count": 1,
   "metadata": {},
   "outputs": [],
   "source": [
    "import pandas as pd \n",
    "import numpy as np \n",
    "from allennlp.predictors.predictor import Predictor\n",
    "import allennlp_models.tagging"
   ]
  },
  {
   "source": [
    "Tags:\n",
    "\n",
    "- ARGx: Argument (The lowest is usually the subject)\n",
    "- V: Verb\n",
    "- ARGM-XXX: Modifiers\n",
    "    - ARGM-LOC: Modifier-Location\n",
    "    - ARGM-TMP: Modifier-Temporal\n",
    "    - ARGM-ADV: Modifier-Adverbial\n",
    "    - ARGM-DIS: Modifier-Discourse"
   ],
   "cell_type": "markdown",
   "metadata": {}
  },
  {
   "cell_type": "code",
   "execution_count": 2,
   "metadata": {},
   "outputs": [
    {
     "output_type": "stream",
     "name": "stderr",
     "text": [
      "error loading _jsonnet (this is expected on Windows), treating C:\\Users\\ADITHI~1\\AppData\\Local\\Temp\\tmpnmp3tgw0\\config.json as plain json\n"
     ]
    }
   ],
   "source": [
    "predictor = Predictor.from_path(\"https://storage.googleapis.com/allennlp-public-models/openie-model.2020.03.26.tar.gz\")"
   ]
  },
  {
   "cell_type": "code",
   "execution_count": 45,
   "metadata": {},
   "outputs": [
    {
     "output_type": "stream",
     "name": "stdout",
     "text": [
      "Total Number of Extractions Found: 3\n------------------------------------\n\nTriplets found in Extraction 1 :\n{'A two - seater aircraft': 'ARG1', 'crashed': 'V', \"in Odisha 's Dhenkanal district\": 'ARGM-LOC', 'on Monday': 'ARGM-TMP', 'killing a trainee pilot and her instructor': ' ARGM-ADV', ' officials said': None}\n\n\nTriplets found in Extraction 2 :\n{'A two - seater aircraft': 'ARG0', \"crashed in Odisha 's Dhenkanal district on Monday \": None, 'killing': ' V', 'a trainee pilot and her instructor': 'ARG1', ' officials said': None}\n\n\nTriplets found in Extraction 3 :\n{\"A two - seater aircraft crashed in Odisha 's Dhenkanal district on Monday \": None, ' killing a trainee pilot and her instructor ': None, 'officials': ' ARG0', 'said]': 'V'}\n\n\n"
     ]
    }
   ],
   "source": [
    "text = \"A two-seater aircraft crashed in Odisha's Dhenkanal district on Monday, killing a trainee pilot and her instructor, officials said\"\n",
    "openie = predictor.predict(sentence = text)\n",
    "\n",
    "triplets = []\n",
    "print(\"Total Number of Extractions Found:\",len(openie['verbs']))\n",
    "print(\"------------------------------------\\n\")\n",
    "for count, i in enumerate(openie['verbs']):\n",
    "    desc = i['description']\n",
    "    oie_triplets = desc.split(\",\")\n",
    "    triplet_dict = {}\n",
    "    for triplet in oie_triplets:\n",
    "        tags = triplet.replace(\"[\",\"\")\n",
    "        tags = tags.split('] ')\n",
    "        if tags[-1] == '':\n",
    "            tags = tags[:-1]\n",
    "        # print(l1)\n",
    "        for tag in tags:\n",
    "            trip = tag.split(\": \")\n",
    "            try:\n",
    "                triplet_dict[trip[1]] = trip[0]\n",
    "            except Exception as e:\n",
    "                triplet_dict[trip[0]] = None\n",
    "\n",
    "    print(\"Triplets found in Extraction\",count+1,\":\")\n",
    "    print(triplet_dict)\n",
    "    print(\"\\n\")\n",
    "# print(triplets)"
   ]
  },
  {
   "cell_type": "code",
   "execution_count": null,
   "metadata": {},
   "outputs": [],
   "source": []
  },
  {
   "cell_type": "code",
   "execution_count": null,
   "metadata": {},
   "outputs": [],
   "source": []
  }
 ]
}