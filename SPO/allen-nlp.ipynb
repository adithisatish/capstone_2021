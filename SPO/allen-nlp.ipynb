{
 "metadata": {
  "language_info": {
   "codemirror_mode": {
    "name": "ipython",
    "version": 3
   },
   "file_extension": ".py",
   "mimetype": "text/x-python",
   "name": "python",
   "nbconvert_exporter": "python",
   "pygments_lexer": "ipython3",
   "version": "3.7.6"
  },
  "orig_nbformat": 2,
  "kernelspec": {
   "name": "python376jvsc74a57bd0a0d4e06333e6cb61b4bbbc9d8fc792d4f6006fe6306b4a2b7b8e18ab0a2621e6",
   "display_name": "Python 3.7.6 64-bit ('base': conda)"
  }
 },
 "nbformat": 4,
 "nbformat_minor": 2,
 "cells": [
  {
   "cell_type": "code",
   "execution_count": 1,
   "metadata": {},
   "outputs": [],
   "source": [
    "import pandas as pd \n",
    "import numpy as np \n",
    "from allennlp.predictors.predictor import Predictor\n",
    "import allennlp_models.tagging"
   ]
  },
  {
   "cell_type": "code",
   "execution_count": 2,
   "metadata": {},
   "outputs": [
    {
     "output_type": "display_data",
     "data": {
      "text/plain": "HBox(children=(FloatProgress(value=0.0, description='downloading', max=54185577.0, style=ProgressStyle(descrip…",
      "application/vnd.jupyter.widget-view+json": {
       "version_major": 2,
       "version_minor": 0,
       "model_id": "746d9455221c4d228e94fe2a26822a88"
      }
     },
     "metadata": {}
    },
    {
     "output_type": "stream",
     "name": "stderr",
     "text": [
      "\n",
      "error loading _jsonnet (this is expected on Windows), treating C:\\Users\\ADITHI~1\\AppData\\Local\\Temp\\tmppq8d4fz5\\config.json as plain json\n"
     ]
    }
   ],
   "source": [
    "predictor = Predictor.from_path(\"https://storage.googleapis.com/allennlp-public-models/openie-model.2020.03.26.tar.gz\")"
   ]
  },
  {
   "cell_type": "code",
   "execution_count": 14,
   "metadata": {},
   "outputs": [
    {
     "output_type": "stream",
     "name": "stdout",
     "text": [
      "[ARGM-DIS: Team] , [ARG0: I] [V: know] [ARG1: that times are tough ! Product sales have been disappointing for the past three quarters . We have a competitive product , but we need to do a better job of selling it] !\n\nTeam , I know that [ARG1: times] [V: are] [ARG2: tough] ! Product sales have been disappointing for the past three quarters . We have a competitive product , but we need to do a better job of selling it !\n\nTeam , I know that times are tough ! Product sales [V: have] been disappointing for the past three quarters . We have a competitive product , but we need to do a better job of selling it !\n\nTeam , I know that times are tough ! [ARG1: Product sales] have [V: been] [ARG2: disappointing] [ARGM-TMP: for the past three quarters] . We have a competitive product , but we need to do a better job of selling it !\n\nTeam , I know that times are tough ! Product sales have been disappointing for the past three quarters . [ARG0: We] [V: have] [ARG1: a competitive product] , but we need to do a better job of selling it !\n\nTeam , I know that times are tough ! Product sales have been disappointing for the past three quarters . We have a competitive product , but [ARG0: we] [V: need] [ARG1: to do a better job of selling it] !\n\nTeam , I know that times are tough ! Product sales have been disappointing for the past three quarters . We have a competitive product , but [ARG0: we] need to [V: do] [ARG1: a better job of selling it] !\n\nTeam , I know that times are tough ! Product sales have been disappointing for the past three quarters . We have a competitive product , but [ARG0: we] need to do a better job of [V: selling] [ARG1: it] !\n\n"
     ]
    }
   ],
   "source": [
    "text = 'Team, I know that times are tough! Product '\\\n",
    "    'sales have been disappointing for the past three '\\\n",
    "    'quarters. We have a competitive product, but we '\\\n",
    "    'need to do a better job of selling it!'\n",
    "openie = predictor.predict(sentence = text)\n",
    "\n",
    "for i in openie['verbs']:\n",
    "    print(i['description'])\n",
    "    print()"
   ]
  },
  {
   "cell_type": "code",
   "execution_count": null,
   "metadata": {},
   "outputs": [],
   "source": []
  },
  {
   "cell_type": "code",
   "execution_count": null,
   "metadata": {},
   "outputs": [],
   "source": []
  }
 ]
}