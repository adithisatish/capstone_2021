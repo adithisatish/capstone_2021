{
 "cells": [
  {
   "cell_type": "code",
   "execution_count": 3,
   "metadata": {},
   "outputs": [
    {
     "data": {
      "text/html": [
       "<div>\n",
       "<style scoped>\n",
       "    .dataframe tbody tr th:only-of-type {\n",
       "        vertical-align: middle;\n",
       "    }\n",
       "\n",
       "    .dataframe tbody tr th {\n",
       "        vertical-align: top;\n",
       "    }\n",
       "\n",
       "    .dataframe thead th {\n",
       "        text-align: right;\n",
       "    }\n",
       "</style>\n",
       "<table border=\"1\" class=\"dataframe\">\n",
       "  <thead>\n",
       "    <tr style=\"text-align: right;\">\n",
       "      <th></th>\n",
       "      <th>Unnamed: 0</th>\n",
       "      <th>Text</th>\n",
       "      <th>Spacy</th>\n",
       "      <th>WUP</th>\n",
       "      <th>Metaphor</th>\n",
       "    </tr>\n",
       "  </thead>\n",
       "  <tbody>\n",
       "    <tr>\n",
       "      <th>0</th>\n",
       "      <td>0</td>\n",
       "      <td>My eyes are an ocean of blue.</td>\n",
       "      <td>0.313175</td>\n",
       "      <td>0.153846</td>\n",
       "      <td>Y</td>\n",
       "    </tr>\n",
       "    <tr>\n",
       "      <th>1</th>\n",
       "      <td>1</td>\n",
       "      <td>Today is a prison and I am the inmate.</td>\n",
       "      <td>0.246212</td>\n",
       "      <td>0.117647</td>\n",
       "      <td>Y</td>\n",
       "    </tr>\n",
       "    <tr>\n",
       "      <th>2</th>\n",
       "      <td>2</td>\n",
       "      <td>The snow is a white blanket.</td>\n",
       "      <td>0.377456</td>\n",
       "      <td>0.210526</td>\n",
       "      <td>Y</td>\n",
       "    </tr>\n",
       "    <tr>\n",
       "      <th>3</th>\n",
       "      <td>3</td>\n",
       "      <td>Her long hair was a flowing golden river.</td>\n",
       "      <td>0.165116</td>\n",
       "      <td>0.285714</td>\n",
       "      <td>Y</td>\n",
       "    </tr>\n",
       "    <tr>\n",
       "      <th>4</th>\n",
       "      <td>4</td>\n",
       "      <td>Tom's eyes were ice as he stared at her.</td>\n",
       "      <td>0.255723</td>\n",
       "      <td>0.142857</td>\n",
       "      <td>Y</td>\n",
       "    </tr>\n",
       "  </tbody>\n",
       "</table>\n",
       "</div>"
      ],
      "text/plain": [
       "   Unnamed: 0                                       Text     Spacy       WUP  \\\n",
       "0           0              My eyes are an ocean of blue.  0.313175  0.153846   \n",
       "1           1     Today is a prison and I am the inmate.  0.246212  0.117647   \n",
       "2           2               The snow is a white blanket.  0.377456  0.210526   \n",
       "3           3  Her long hair was a flowing golden river.  0.165116  0.285714   \n",
       "4           4   Tom's eyes were ice as he stared at her.  0.255723  0.142857   \n",
       "\n",
       "  Metaphor  \n",
       "0        Y  \n",
       "1        Y  \n",
       "2        Y  \n",
       "3        Y  \n",
       "4        Y  "
      ]
     },
     "execution_count": 3,
     "metadata": {},
     "output_type": "execute_result"
    }
   ],
   "source": [
    "import pandas as pd \n",
    "import numpy as np\n",
    "\n",
    "data = pd.read_csv(\"NM_similarities.csv\")\n",
    "data.head()"
   ]
  },
  {
   "cell_type": "code",
   "execution_count": 12,
   "metadata": {},
   "outputs": [],
   "source": [
    "sp_y = data[data[\"Metaphor\"]==\"Y\"]['Spacy']\n",
    "sp_n = data[data[\"Metaphor\"]==\"N\"]['Spacy']\n",
    "wp_y = data[data[\"Metaphor\"]==\"Y\"]['WUP']\n",
    "wp_y = wp_y.dropna()\n",
    "wp_n = data[data[\"Metaphor\"]==\"N\"]['WUP']\n",
    "wp_n = wp_n.dropna()"
   ]
  },
  {
   "cell_type": "code",
   "execution_count": 13,
   "metadata": {},
   "outputs": [
    {
     "name": "stdout",
     "output_type": "stream",
     "text": [
      "Average Spacy Score for Metaphors = 0.26359608351282054\n",
      "Average Spacy Score for Non-Metaphors = 0.40065913984999996\n",
      "Average Wu-Palmer Score for Metaphors = 0.23431791441176472\n",
      "Average Wu-Palmer Score for Non-Metaphors = 0.250595238\n"
     ]
    }
   ],
   "source": [
    "print(\"Average Spacy Score for Metaphors =\", sum(sp_y)/len(sp_y))\n",
    "print(\"Average Spacy Score for Non-Metaphors =\", sum(sp_n)/len(sp_n))\n",
    "print(\"Average Wu-Palmer Score for Metaphors =\", sum(wp_y)/len(wp_y))\n",
    "print(\"Average Wu-Palmer Score for Non-Metaphors =\", sum(wp_n)/len(wp_n))"
   ]
  },
  {
   "cell_type": "markdown",
   "metadata": {},
   "source": [
    "Major issue with Wu-Palmer - synsets may not exist for every word (could turn out to be an issue with Spacy also)"
   ]
  },
  {
   "cell_type": "markdown",
   "metadata": {},
   "source": []
  }
 ],
 "metadata": {
  "interpreter": {
   "hash": "a0d4e06333e6cb61b4bbbc9d8fc792d4f6006fe6306b4a2b7b8e18ab0a2621e6"
  },
  "kernelspec": {
   "display_name": "Python 3.7.6 64-bit ('base': conda)",
   "name": "python3"
  },
  "language_info": {
   "codemirror_mode": {
    "name": "ipython",
    "version": 3
   },
   "file_extension": ".py",
   "mimetype": "text/x-python",
   "name": "python",
   "nbconvert_exporter": "python",
   "pygments_lexer": "ipython3",
   "version": "3.7.6"
  },
  "orig_nbformat": 4
 },
 "nbformat": 4,
 "nbformat_minor": 2
}
